{
 "cells": [
  {
   "cell_type": "markdown",
   "source": [
    "# <div style=\"font-family: Cambria; font-weight:bold; letter-spacing: 0px; color:white; font-size:200%; text-align:center;padding:3.0px; background: #6A1B9A; border-bottom: 8px solid #9C27B0\">Ichimoku Cloud EDA</div>\n",
    "#### <div style= \"font-family: Cambria; font-weight:bold; letter-spacing: 0px; color:white; font-size:150%; text-align:left;padding:3.0px; background: #6A1B9A; border-bottom: 8px solid #9C27B0\" >TABLE OF CONTENTS<br><div>\n",
    "* [IMPORTS](#1)\n",
    "* [LOAD DATA](#3)\n",
    "* [INTRODUCTION](#3)\n",
    "    * [DATASET COLUMNS](#3.1)\n",
    "* [PREPROCESSING](#4)\n",
    "* [EDA AND VISUALS](#5) \n",
    "\n"
   ],
   "metadata": {
    "collapsed": false
   },
   "id": "2ac7913fde6496e0"
  },
  {
   "cell_type": "markdown",
   "source": [
    "<a id=\"1\"></a>\n",
    "# <div style= \"font-family: Cambria; font-weight:bold; letter-spacing: 0px; color:white; font-size:120%; text-align:left;padding:3.0px; background: #6A1B9A; border-bottom: 8px solid #9C27B0\" > IMPORTS<br><div> "
   ],
   "metadata": {
    "collapsed": false
   },
   "id": "708fce01e88c0d82"
  },
  {
   "cell_type": "code",
   "execution_count": null,
   "outputs": [],
   "source": [
    "import matplotlib.pyplot as plt\n",
    "import numpy as np\n",
    "import pandas as pd\n",
    "import seaborn as sns\n",
    "\n",
    "\n",
    "from tools.data_helper import process_data, evaluate_for_stationary_series, filter_data\n",
    "from tools.machine_learning_helper import (asymmetric_mean_squared_error, modified_mean_squared_log_error, \n",
    "                                           asymmetric_squared_error_objective,\n",
    "                                           train_and_test_pipelines, train_test_split_timeseries)\n",
    "from tools.model_evaluation_helper import (get_accuracy_fig, get_actual_vs_threshold_prob_fig, \n",
    "                                           get_actual_vs_pred_prob_fig, get_feature_names, analyze_signal_for_report,\n",
    "                                           get_med_actual_if_pred_above_thresh_fig)"
   ],
   "metadata": {
    "collapsed": false
   },
   "id": "c2be27d4af0120b8"
  },
  {
   "cell_type": "code",
   "execution_count": null,
   "outputs": [],
   "source": [
    "sns.set({\"axes.facecolor\"       : \"#ffffff\",\n",
    "         \"figure.facecolor\"     : \"#ffffff\",\n",
    "         \"axes.edgecolor\"       : \"#000000\",\n",
    "         \"grid.color\"           : \"#ffffff\",\n",
    "         \"font.family\"          : ['Cambria'],\n",
    "         \"axes.labelcolor\"      : \"#000000\",\n",
    "         \"xtick.color\"          : \"#000000\",\n",
    "         \"ytick.color\"          : \"#000000\",\n",
    "         \"grid.linewidth\"       : 0.75,  \n",
    "         \"grid.linestyle\"       : \"--\",\n",
    "         \"axes.titlecolor\"      : '#0099e6',\n",
    "         'axes.titlesize'       : 8.5,\n",
    "         'axes.labelweight'     : \"bold\",\n",
    "         'legend.fontsize'      : 7.0,\n",
    "         'legend.title_fontsize': 7.0,\n",
    "         'font.size'            : 7.5,\n",
    "         'xtick.labelsize'      : 7.5,\n",
    "         'ytick.labelsize'      : 7.5,        \n",
    "        });"
   ],
   "metadata": {
    "collapsed": false
   },
   "id": "b916066e2f69e2db"
  },
  {
   "cell_type": "markdown",
   "source": [
    "<a id=\"2\"></a>\n",
    "# <div style= \"font-family: Cambria; font-weight:bold; letter-spacing: 0px; color:white; font-size:120%; text-align:left;padding:3.0px; background: #6A1B9A; border-bottom: 8px solid #9C27B0\" > LOAD DATA<br><div> "
   ],
   "metadata": {
    "collapsed": false
   },
   "id": "11626de981aa79d2"
  },
  {
   "cell_type": "markdown",
   "source": [
    "<a id=\"3\"></a>\n",
    "# <div style= \"font-family: Cambria; font-weight:bold; letter-spacing: 0px; color:white; font-size:120%; text-align:left;padding:3.0px; background: #6A1B9A; border-bottom: 8px solid #9C27B0\" > INTRODUCTION<br><div> "
   ],
   "metadata": {
    "collapsed": false
   },
   "id": "5511f0120ca6fcb9"
  },
  {
   "cell_type": "code",
   "execution_count": null,
   "outputs": [],
   "source": [],
   "metadata": {
    "collapsed": false,
    "ExecuteTime": {
     "end_time": "2023-12-08T22:45:43.773725Z",
     "start_time": "2023-12-08T22:45:43.768367Z"
    }
   },
   "id": "9fabe3ce4744bede"
  },
  {
   "cell_type": "markdown",
   "source": [
    "<a id=\"3.1\"></a>\n",
    "## <div style= \"font-family: Cambria; font-weight:bold; letter-spacing: 0px; color:#ffffff; font-size:120%; text-align:left;padding:3.0px; background: #9C27B0; border-bottom: 8px solid #6A1B9A\" > DATASET COLUMNS<br><div>"
   ],
   "metadata": {
    "collapsed": false
   },
   "id": "bc8f00dbb382a1d9"
  },
  {
   "cell_type": "markdown",
   "source": [
    "<a id=\"4\"></a>\n",
    "# <div style= \"font-family: Cambria; font-weight:bold; letter-spacing: 0px; color:white; font-size:120%; text-align:left;padding:3.0px; background: #6A1B9A; border-bottom: 8px solid #9C27B0\" > PREPROCESSING<br><div> "
   ],
   "metadata": {
    "collapsed": false
   },
   "id": "23c7a7c04fcab94a"
  },
  {
   "cell_type": "code",
   "execution_count": null,
   "outputs": [],
   "source": [],
   "metadata": {
    "collapsed": false
   },
   "id": "ab1a4dbf1d016ed5"
  },
  {
   "cell_type": "markdown",
   "source": [
    "<a id=\"5\"></a>\n",
    "# <div style= \"font-family: Cambria; font-weight:bold; letter-spacing: 0px; color:white; font-size:120%; text-align:left;padding:3.0px; background: #6A1B9A; border-bottom: 8px solid #9C27B0\" > EDA AND VISUALS<br><div> "
   ],
   "metadata": {
    "collapsed": false
   },
   "id": "7317b08b030de1a7"
  },
  {
   "cell_type": "code",
   "execution_count": null,
   "outputs": [],
   "source": [],
   "metadata": {
    "collapsed": false
   },
   "id": "99dbee6a309631ab"
  }
 ],
 "metadata": {
  "kernelspec": {
   "display_name": "Python 3",
   "language": "python",
   "name": "python3"
  },
  "language_info": {
   "codemirror_mode": {
    "name": "ipython",
    "version": 2
   },
   "file_extension": ".py",
   "mimetype": "text/x-python",
   "name": "python",
   "nbconvert_exporter": "python",
   "pygments_lexer": "ipython2",
   "version": "2.7.6"
  }
 },
 "nbformat": 4,
 "nbformat_minor": 5
}
