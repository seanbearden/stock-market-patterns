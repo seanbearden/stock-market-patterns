{
 "cells": [
  {
   "cell_type": "markdown",
   "source": [
    "# Ichimoku Cloud Study\n",
    "## Random Forrest\n",
    "\n",
    "I want to predict price movements of S&P 500 stocks given bullish crossover signals from Ichimoku clouds. The signal \n",
    "has two criteria:\n",
    "1. Conversion line moves above base line (Crossover)\n",
    "2. Price is above cloud\n",
    "\n",
    "### Features\n",
    "#### Existing\n",
    "1. ~~open~~\n",
    "2. ~~high~~\n",
    "3. ~~low~~\n",
    "4. ~~close~~\n",
    "5. ~~volume~~\n",
    "6. ~~dividend amount~~\n",
    "\n",
    "#### Technical Indicators\n",
    "1. ~~tenken_sen~~ (replaced with close_diff_tenkan_sen_percent)\n",
    "2. ~~kijun_sen~~ (replaced with close_diff_kijun_sen_percent)\n",
    "3. ~~senkou_span_a~~ (replaced with close_diff_senkou_span_a_percent)\n",
    "4. ~~senkou_span_b~~ (replaced with close_diff_senkou_span_b_percent)\n",
    "5. ~~chikou_span~~ (forward bias)\n",
    "6. RSI (period = 14 day)\n",
    "7. RMI (time_period = 14 day, momentum_period = 5 day)\n",
    "8. MFI (period = 14 day)\n",
    "9. MACD Hist (fastperiod = 12 day, slowperiod = 26 day, signalperiod = 9 day)\n",
    "10. Rel. SPY (TODO)\n",
    "\n",
    "#### Engineered\n",
    "1. close_diff_tenkan_sen_percent\n",
    "2. close_diff_kijun_sen_percent\n",
    "3. close_diff_senkou_span_a_percent\n",
    "4. close_diff_senkou_span_b_percent\n",
    "5. days_since_earnings\n",
    "6. crossover_difference\n",
    "7. crossover_indicator\n",
    "8. close_price_diff_1_day\n",
    "9. close_to_365_day_high\n",
    "10. close_to_365_day_low\n",
    "12. close_to_{N*7}_day_low\n",
    "13. volume_percent_of_2_week_total\n",
    "14. dividend_amount_to_close\n",
    "\n",
    "### Issues\n",
    "- RandomForestRegressor only predicts positive targets."
   ],
   "metadata": {
    "collapsed": false
   },
   "id": "957c79283ba17890"
  },
  {
   "cell_type": "code",
   "execution_count": 8,
   "outputs": [],
   "source": [
    "import numpy as np\n",
    "import pandas as pd\n",
    "from sklearn.feature_selection import RFE\n",
    "from sklearn.ensemble import RandomForestRegressor\n",
    "\n",
    "import importlib\n",
    "\n",
    "# After updating the package\n",
    "import tools.data_helper\n",
    "importlib.reload(tools.data_helper)\n",
    "\n",
    "from tools.machine_learning_helper import find_first_below_threshold\n",
    "from tools.data_helper import process_data\n",
    "from sklearn.metrics import mean_squared_log_error, mean_squared_error\n",
    "# TECH DEBT: determine which symbols have high accuracy..."
   ],
   "metadata": {
    "collapsed": false,
    "ExecuteTime": {
     "end_time": "2023-11-14T22:58:57.829313Z",
     "start_time": "2023-11-14T22:58:57.823659Z"
    }
   },
   "id": "d80c87c95b806c45"
  },
  {
   "cell_type": "markdown",
   "source": [
    "### Load data"
   ],
   "metadata": {
    "collapsed": false
   },
   "id": "432954d77d95eff0"
  },
  {
   "cell_type": "markdown",
   "source": [
    "### Earnings Dates"
   ],
   "metadata": {
    "collapsed": false
   },
   "id": "135e4141cd0a360f"
  },
  {
   "cell_type": "markdown",
   "source": [
    "### Feature Engineering"
   ],
   "metadata": {
    "collapsed": false
   },
   "id": "73e1da4e2c6388ba"
  },
  {
   "cell_type": "code",
   "execution_count": 9,
   "outputs": [
    {
     "name": "stdout",
     "output_type": "stream",
     "text": [
      "/prices/A\n",
      "/prices/AAL\n",
      "/prices/AAPL\n",
      "/prices/ABBV\n",
      "/prices/ABNB\n",
      "/prices/ABT\n",
      "/prices/ACGL\n",
      "/prices/ACN\n",
      "/prices/ADBE\n",
      "/prices/ADI\n",
      "/prices/ADM\n",
      "/prices/ADP\n",
      "/prices/ADSK\n",
      "/prices/AEE\n",
      "/prices/AEP\n",
      "/prices/AES\n",
      "/prices/AFL\n",
      "/prices/AIG\n",
      "/prices/AIZ\n",
      "/prices/AJG\n",
      "/prices/AKAM\n",
      "/prices/ALB\n",
      "/prices/ALGN\n",
      "/prices/ALK\n",
      "/prices/ALL\n",
      "/prices/ALLE\n",
      "/prices/AMAT\n",
      "/prices/AMCR\n",
      "/prices/AMD\n",
      "/prices/AME\n",
      "/prices/AMGN\n",
      "/prices/AMP\n",
      "/prices/AMT\n",
      "/prices/AMZN\n",
      "/prices/ANET\n",
      "/prices/ANSS\n",
      "/prices/AON\n",
      "/prices/AOS\n",
      "/prices/APA\n",
      "/prices/APD\n",
      "/prices/APH\n",
      "/prices/APTV\n",
      "/prices/ARE\n",
      "/prices/ATO\n",
      "/prices/AVB\n",
      "/prices/AVGO\n",
      "/prices/AVY\n",
      "/prices/AWK\n",
      "/prices/AXON\n",
      "/prices/AXP\n",
      "/prices/AZO\n",
      "/prices/BA\n",
      "/prices/BAC\n",
      "/prices/BALL\n",
      "/prices/BAX\n",
      "/prices/BBWI\n",
      "/prices/BBY\n",
      "/prices/BDX\n",
      "/prices/BEN\n",
      "/prices/BF-B\n",
      "/prices/BG\n",
      "/prices/BIIB\n",
      "/prices/BIO\n",
      "/prices/BK\n",
      "/prices/BKNG\n",
      "/prices/BKR\n",
      "/prices/BLK\n",
      "/prices/BMY\n",
      "/prices/BR\n",
      "/prices/BRK-B\n",
      "/prices/BRO\n",
      "/prices/BSX\n",
      "/prices/BWA\n",
      "/prices/BX\n",
      "/prices/BXP\n",
      "/prices/C\n",
      "/prices/CAG\n",
      "/prices/CAH\n",
      "/prices/CARR\n",
      "/prices/CAT\n",
      "/prices/CB\n",
      "/prices/CBOE\n",
      "/prices/CBRE\n",
      "/prices/CCI\n",
      "/prices/CCL\n",
      "/prices/CDAY\n",
      "/prices/CDNS\n",
      "/prices/CDW\n",
      "/prices/CE\n",
      "/prices/CEG\n",
      "/prices/CF\n",
      "/prices/CFG\n",
      "/prices/CHD\n",
      "/prices/CHRW\n",
      "/prices/CHTR\n",
      "/prices/CI\n",
      "/prices/CINF\n",
      "/prices/CL\n",
      "/prices/CLX\n",
      "/prices/CMA\n",
      "/prices/CMCSA\n",
      "/prices/CME\n",
      "/prices/CMG\n",
      "/prices/CMI\n",
      "/prices/CMS\n",
      "/prices/CNC\n",
      "/prices/CNP\n",
      "/prices/COF\n",
      "/prices/COO\n",
      "/prices/COP\n",
      "/prices/COR\n",
      "/prices/COST\n",
      "/prices/CPB\n",
      "/prices/CPRT\n",
      "/prices/CPT\n",
      "/prices/CRL\n",
      "/prices/CRM\n",
      "/prices/CSCO\n",
      "/prices/CSGP\n",
      "/prices/CSX\n",
      "/prices/CTAS\n",
      "/prices/CTLT\n",
      "/prices/CTRA\n",
      "/prices/CTSH\n",
      "/prices/CTVA\n",
      "/prices/CVS\n",
      "/prices/CVX\n",
      "/prices/CZR\n",
      "/prices/D\n",
      "/prices/DAL\n",
      "/prices/DD\n",
      "/prices/DE\n",
      "/prices/DFS\n",
      "/prices/DG\n",
      "/prices/DGX\n",
      "/prices/DHI\n",
      "/prices/DHR\n",
      "/prices/DIS\n",
      "/prices/DLR\n",
      "/prices/DLTR\n",
      "/prices/DOV\n",
      "/prices/DOW\n",
      "/prices/DPZ\n",
      "/prices/DRI\n",
      "/prices/DTE\n",
      "/prices/DUK\n",
      "/prices/DVA\n",
      "/prices/DVN\n",
      "/prices/DXCM\n",
      "/prices/EA\n",
      "/prices/EBAY\n",
      "/prices/ECL\n",
      "/prices/ED\n",
      "/prices/EFX\n",
      "/prices/EG\n",
      "/prices/EIX\n",
      "/prices/EL\n",
      "/prices/ELV\n",
      "/prices/EMN\n",
      "/prices/EMR\n",
      "/prices/ENPH\n",
      "/prices/EOG\n",
      "/prices/EPAM\n",
      "/prices/EQIX\n",
      "/prices/EQR\n",
      "/prices/EQT\n",
      "/prices/ES\n",
      "/prices/ESS\n",
      "/prices/ETN\n",
      "/prices/ETR\n",
      "/prices/ETSY\n",
      "/prices/EVRG\n",
      "/prices/EW\n",
      "/prices/EXC\n",
      "/prices/EXPD\n",
      "/prices/EXPE\n",
      "/prices/EXR\n",
      "/prices/F\n",
      "/prices/FANG\n",
      "/prices/FAST\n",
      "/prices/FCX\n",
      "/prices/FDS\n",
      "/prices/FDX\n",
      "/prices/FE\n",
      "/prices/FFIV\n",
      "/prices/FI\n",
      "/prices/FICO\n",
      "/prices/FIS\n",
      "/prices/FITB\n",
      "/prices/FLT\n",
      "/prices/FMC\n",
      "/prices/FOX\n",
      "/prices/FOXA\n",
      "/prices/FRT\n",
      "/prices/FSLR\n",
      "/prices/FTNT\n",
      "/prices/FTV\n",
      "/prices/GD\n",
      "/prices/GE\n",
      "/prices/GEHC\n",
      "/prices/GEN\n",
      "/prices/GILD\n",
      "/prices/GIS\n",
      "/prices/GL\n",
      "/prices/GLW\n",
      "/prices/GM\n",
      "/prices/GNRC\n",
      "/prices/GOOG\n",
      "/prices/GOOGL\n",
      "/prices/GPC\n",
      "/prices/GPN\n",
      "/prices/GRMN\n",
      "/prices/GS\n",
      "/prices/GWW\n",
      "/prices/HAL\n",
      "/prices/HAS\n",
      "/prices/HBAN\n",
      "/prices/HCA\n",
      "/prices/HD\n",
      "/prices/HES\n",
      "/prices/HIG\n",
      "/prices/HII\n",
      "/prices/HLT\n",
      "/prices/HOLX\n",
      "/prices/HON\n",
      "/prices/HPE\n",
      "/prices/HPQ\n",
      "/prices/HRL\n",
      "/prices/HSIC\n",
      "/prices/HST\n",
      "/prices/HSY\n",
      "/prices/HUBB\n",
      "/prices/HUM\n",
      "/prices/HWM\n",
      "/prices/IBM\n",
      "/prices/ICE\n",
      "/prices/IDXX\n",
      "/prices/IEX\n",
      "/prices/IFF\n",
      "/prices/ILMN\n",
      "/prices/INCY\n",
      "/prices/INTC\n",
      "/prices/INTU\n",
      "/prices/INVH\n",
      "/prices/IP\n",
      "/prices/IPG\n",
      "/prices/IQV\n",
      "/prices/IR\n",
      "/prices/IRM\n",
      "/prices/ISRG\n",
      "/prices/IT\n",
      "/prices/ITW\n",
      "/prices/IVZ\n",
      "/prices/J\n",
      "/prices/JBHT\n",
      "/prices/JCI\n",
      "/prices/JKHY\n",
      "/prices/JNJ\n",
      "/prices/JNPR\n",
      "/prices/JPM\n",
      "/prices/K\n",
      "/prices/KDP\n",
      "/prices/KEY\n",
      "/prices/KEYS\n",
      "/prices/KHC\n",
      "/prices/KIM\n",
      "/prices/KLAC\n",
      "/prices/KMB\n",
      "/prices/KMI\n",
      "/prices/KMX\n",
      "/prices/KO\n",
      "/prices/KR\n",
      "/prices/KVUE\n",
      "/prices/L\n",
      "/prices/LDOS\n",
      "/prices/LEN\n",
      "/prices/LH\n",
      "/prices/LHX\n",
      "/prices/LIN\n",
      "/prices/LKQ\n",
      "/prices/LLY\n",
      "/prices/LMT\n",
      "/prices/LNT\n",
      "/prices/LOW\n",
      "/prices/LRCX\n",
      "/prices/LULU\n",
      "/prices/LUV\n",
      "/prices/LVS\n",
      "/prices/LW\n",
      "/prices/LYB\n",
      "/prices/LYV\n",
      "/prices/MA\n",
      "/prices/MAA\n",
      "/prices/MAR\n",
      "/prices/MAS\n",
      "/prices/MCD\n",
      "/prices/MCHP\n",
      "/prices/MCK\n",
      "/prices/MCO\n",
      "/prices/MDLZ\n",
      "/prices/MDT\n",
      "/prices/MET\n",
      "/prices/META\n",
      "/prices/MGM\n",
      "/prices/MHK\n",
      "/prices/MKC\n",
      "/prices/MKTX\n",
      "/prices/MLM\n",
      "/prices/MMC\n",
      "/prices/MMM\n",
      "/prices/MNST\n",
      "/prices/MO\n",
      "/prices/MOH\n",
      "/prices/MOS\n",
      "/prices/MPC\n",
      "/prices/MPWR\n",
      "/prices/MRK\n",
      "/prices/MRNA\n",
      "/prices/MRO\n",
      "/prices/MS\n",
      "/prices/MSCI\n",
      "/prices/MSFT\n",
      "/prices/MSI\n",
      "/prices/MTB\n",
      "/prices/MTCH\n",
      "/prices/MTD\n",
      "/prices/MU\n",
      "/prices/NCLH\n",
      "/prices/NDAQ\n",
      "/prices/NDSN\n",
      "/prices/NEE\n",
      "/prices/NEM\n",
      "/prices/NFLX\n",
      "/prices/NI\n",
      "/prices/NKE\n",
      "/prices/NOC\n",
      "/prices/NOW\n",
      "/prices/NRG\n",
      "/prices/NSC\n",
      "/prices/NTAP\n",
      "/prices/NTRS\n",
      "/prices/NUE\n",
      "/prices/NVDA\n",
      "/prices/NVR\n",
      "/prices/NWS\n",
      "/prices/NWSA\n",
      "/prices/NXPI\n",
      "/prices/O\n",
      "/prices/ODFL\n",
      "/prices/OKE\n",
      "/prices/OMC\n",
      "/prices/ON\n",
      "/prices/ORCL\n",
      "/prices/ORLY\n",
      "/prices/OTIS\n",
      "/prices/OXY\n",
      "/prices/PANW\n",
      "/prices/PARA\n",
      "/prices/PAYC\n",
      "/prices/PAYX\n",
      "/prices/PCAR\n",
      "/prices/PCG\n",
      "/prices/PEAK\n",
      "/prices/PEG\n",
      "/prices/PEP\n",
      "/prices/PFE\n",
      "/prices/PFG\n",
      "/prices/PG\n",
      "/prices/PGR\n",
      "/prices/PH\n",
      "/prices/PHM\n",
      "/prices/PKG\n",
      "/prices/PLD\n",
      "/prices/PM\n",
      "/prices/PNC\n",
      "/prices/PNR\n",
      "/prices/PNW\n",
      "/prices/PODD\n",
      "/prices/POOL\n",
      "/prices/PPG\n",
      "/prices/PPL\n",
      "/prices/PRU\n",
      "/prices/PSA\n",
      "/prices/PSX\n",
      "/prices/PTC\n",
      "/prices/PWR\n",
      "/prices/PXD\n",
      "/prices/PYPL\n",
      "/prices/QCOM\n",
      "/prices/QRVO\n",
      "/prices/RCL\n",
      "/prices/REG\n",
      "/prices/REGN\n",
      "/prices/RF\n",
      "/prices/RHI\n",
      "/prices/RJF\n",
      "/prices/RL\n",
      "/prices/RMD\n",
      "/prices/ROK\n",
      "/prices/ROL\n",
      "/prices/ROP\n",
      "/prices/ROST\n",
      "/prices/RSG\n",
      "/prices/RTX\n",
      "/prices/RVTY\n",
      "/prices/SBAC\n",
      "/prices/SBUX\n",
      "/prices/SCHW\n",
      "/prices/SEDG\n",
      "/prices/SEE\n",
      "/prices/SHW\n",
      "/prices/SJM\n",
      "/prices/SLB\n",
      "/prices/SNA\n",
      "/prices/SNPS\n",
      "/prices/SO\n",
      "/prices/SPG\n",
      "/prices/SPGI\n",
      "/prices/SRE\n",
      "/prices/STE\n",
      "/prices/STLD\n",
      "/prices/STT\n",
      "/prices/STX\n",
      "/prices/STZ\n",
      "/prices/SWK\n",
      "/prices/SWKS\n",
      "/prices/SYF\n",
      "/prices/SYK\n",
      "/prices/SYY\n",
      "/prices/T\n",
      "/prices/TAP\n",
      "/prices/TDG\n",
      "/prices/TDY\n",
      "/prices/TECH\n",
      "/prices/TEL\n",
      "/prices/TER\n",
      "/prices/TFC\n",
      "/prices/TFX\n",
      "/prices/TGT\n",
      "/prices/TJX\n",
      "/prices/TMO\n",
      "/prices/TMUS\n",
      "/prices/TPR\n",
      "/prices/TRGP\n",
      "/prices/TRMB\n",
      "/prices/TROW\n",
      "/prices/TRV\n",
      "/prices/TSCO\n",
      "/prices/TSLA\n",
      "/prices/TSN\n",
      "/prices/TT\n",
      "/prices/TTWO\n",
      "/prices/TXN\n",
      "/prices/TXT\n",
      "/prices/TYL\n",
      "/prices/UAL\n",
      "/prices/UDR\n",
      "/prices/UHS\n",
      "/prices/ULTA\n",
      "/prices/UNH\n",
      "/prices/UNP\n",
      "/prices/UPS\n",
      "/prices/URI\n",
      "/prices/USB\n",
      "/prices/V\n",
      "/prices/VFC\n",
      "/prices/VICI\n",
      "/prices/VLO\n",
      "/prices/VLTO\n",
      "p-value: 0.420660\n",
      "Dropped /prices/VLTO because it did not pass the stationary series test\n",
      "/prices/VMC\n",
      "/prices/VRSK\n",
      "/prices/VRSN\n",
      "/prices/VRTX\n",
      "/prices/VTR\n",
      "/prices/VTRS\n",
      "/prices/VZ\n",
      "/prices/WAB\n",
      "/prices/WAT\n",
      "/prices/WBA\n",
      "/prices/WBD\n",
      "/prices/WDC\n",
      "/prices/WEC\n",
      "/prices/WELL\n",
      "/prices/WFC\n",
      "/prices/WHR\n",
      "/prices/WM\n",
      "/prices/WMB\n",
      "/prices/WMT\n",
      "/prices/WRB\n",
      "/prices/WRK\n",
      "/prices/WST\n",
      "/prices/WTW\n",
      "/prices/WY\n",
      "/prices/WYNN\n",
      "/prices/XEL\n",
      "/prices/XOM\n",
      "/prices/XRAY\n",
      "/prices/XYL\n",
      "/prices/YUM\n",
      "/prices/ZBH\n",
      "/prices/ZBRA\n",
      "/prices/ZION\n",
      "/prices/ZTS\n"
     ]
    }
   ],
   "source": [
    "data_path = '../../../res/data/s_and_p_study_data.h5'\n",
    "df_dict, dropped_symbols, target_col = process_data(data_path, days_into_future=10)"
   ],
   "metadata": {
    "collapsed": false,
    "ExecuteTime": {
     "end_time": "2023-11-14T23:10:18.987234Z",
     "start_time": "2023-11-14T22:58:59.425555Z"
    }
   },
   "id": "938a888c8a5876c5"
  },
  {
   "cell_type": "code",
   "execution_count": 10,
   "outputs": [],
   "source": [
    "# TECH DEBT: optimize hyperparameter\n",
    "\n",
    "test_length = 2\n",
    "min_date = pd.Timestamp('2010-10-01 16:00:00', tz='US/Eastern')\n",
    "final_df_test_x_list = []\n",
    "final_df_test_y_list = []\n",
    "final_df_train_x_list = []\n",
    "final_df_train_y_list = []\n",
    "for key, df in df_dict.items():\n",
    "    final_df = df.loc[df.index >= min_date]\n",
    "    final_df = final_df.reset_index(drop=True)\n",
    "    \n",
    "    end_point = len(final_df)\n",
    "    x = end_point - test_length\n",
    "    final_df_train = final_df.loc[:x - 1, :]\n",
    "    final_df_test = final_df.loc[x:, :]\n",
    "    \n",
    "    final_df_test_x_list.append(final_df_test.loc[:, [col for col in final_df_test.columns if col not in [target_col]]])\n",
    "    final_df_test_y_list.append(final_df_test[target_col])\n",
    "    final_df_train_x_list.append(final_df_train.loc[:, [col for col in final_df_test.columns if col not in [target_col]]])\n",
    "    final_df_train_y_list.append(final_df_train[target_col])\n",
    "    \n",
    "final_df_test_x = pd.concat(final_df_test_x_list)\n",
    "final_df_test_y = pd.concat(final_df_test_y_list)\n",
    "final_df_train_x = pd.concat(final_df_train_x_list)\n",
    "final_df_train_y = pd.concat(final_df_train_y_list)\n"
   ],
   "metadata": {
    "collapsed": false,
    "ExecuteTime": {
     "end_time": "2023-11-14T23:10:43.786254Z",
     "start_time": "2023-11-14T23:10:43.212373Z"
    }
   },
   "id": "309fba0a97f5d7a7"
  },
  {
   "cell_type": "code",
   "execution_count": 21,
   "outputs": [
    {
     "name": "stdout",
     "output_type": "stream",
     "text": [
      "Starting model train..\n"
     ]
    }
   ],
   "source": [
    "n_features_to_select = 30\n",
    "print(\"Starting model train..\")\n",
    "rfe = RFE(RandomForestRegressor(n_estimators=100, random_state=1), n_features_to_select=n_features_to_select)\n",
    "fit = rfe.fit(final_df_train_x, final_df_train_y)\n",
    "y_pred = fit.predict(final_df_test_x)"
   ],
   "metadata": {
    "collapsed": false,
    "ExecuteTime": {
     "end_time": "2023-11-14T23:34:57.703642Z",
     "start_time": "2023-11-14T23:24:46.332743Z"
    }
   },
   "id": "c38b4a3c2c6f0a4"
  },
  {
   "cell_type": "code",
   "execution_count": 22,
   "outputs": [
    {
     "data": {
      "text/plain": "0.03867920132402513"
     },
     "execution_count": 22,
     "metadata": {},
     "output_type": "execute_result"
    }
   ],
   "source": [
    "\n",
    "y_true = final_df_test_y.values\n",
    "\n",
    "rmse = np.sqrt(mean_squared_error(y_true, y_pred))\n",
    "rmse"
   ],
   "metadata": {
    "collapsed": false,
    "ExecuteTime": {
     "end_time": "2023-11-14T23:34:57.708601Z",
     "start_time": "2023-11-14T23:34:57.704794Z"
    }
   },
   "id": "c3afbf5da885eaf5"
  },
  {
   "cell_type": "code",
   "execution_count": 23,
   "outputs": [
    {
     "name": "stdout",
     "output_type": "stream",
     "text": [
      "Selected features: ['spy_close_diff_tenkan_sen_percent', 'spy_close_diff_kijun_sen_percent', 'spy_close_diff_senkou_span_a_percent', 'spy_close_diff_senkou_span_b_percent', 'days_since_earnings', 'rsi', 'mfi', 'rmi', 'macd', 'macd_signal', 'macd_hist', 'close_price_diff_1_day', 'crossover_difference', 'volume_percent_of_2_week_total', 'close_to_365_day_high', 'close_to_365_day_low', 'close_to_7_day_low', 'close_to_21_day_low', 'close_to_35_day_high', 'close_to_35_day_low', 'close_to_49_day_low', 'close_to_56_day_low', 'close_to_63_day_low', 'close_to_70_day_low', 'close_to_77_day_low', 'close_to_84_day_high', 'close_to_84_day_low', 'close_diff_kijun_sen_percent', 'close_diff_senkou_span_a_percent', 'close_diff_senkou_span_b_percent']\n",
      "Feature ranking: [ 1  1  1  1  1  1  1  1  1  1  1  1  1 18  1 17  2  1  1  8  1 14  3 11\n",
      "  1 10  7  1  1  9  4 13  1 15  1  6  1 16  1 12  1  1  1  5  1  1  1]\n"
     ]
    }
   ],
   "source": [
    "# Get the mask of the selected features\n",
    "selected_features_mask = rfe.support_\n",
    "\n",
    "# Get the rankings of the features\n",
    "feature_ranking = rfe.ranking_\n",
    "\n",
    "# Get the names of the selected features\n",
    "selected_features = final_df_train_x.columns[selected_features_mask]\n",
    "\n",
    "print(\"Selected features:\", list(selected_features))\n",
    "print(\"Feature ranking:\", feature_ranking)"
   ],
   "metadata": {
    "collapsed": false,
    "ExecuteTime": {
     "end_time": "2023-11-14T23:34:57.712517Z",
     "start_time": "2023-11-14T23:34:57.709318Z"
    }
   },
   "id": "b9cdecb9031c059a"
  },
  {
   "cell_type": "code",
   "execution_count": 24,
   "outputs": [
    {
     "data": {
      "text/plain": "<Figure size 640x480 with 1 Axes>",
      "image/png": "[encoded data removed]"
     },
     "metadata": {},
     "output_type": "display_data"
    }
   ],
   "source": [
    "import matplotlib.pyplot as plt\n",
    "# Optionally, add a line for perfect correlation for reference\n",
    "actual_values = y_true * 100\n",
    "predicted_values = y_pred * 100\n",
    "plt.scatter(predicted_values, actual_values)\n",
    "plt.plot([actual_values.min(), actual_values.max()], [actual_values.min(), actual_values.max()], 'k--', lw=2)\n",
    "plt.title('Predictions vs. True Values')\n",
    "plt.ylabel('True Values')\n",
    "plt.xlabel('Predicted Values')\n",
    "plt.show()\n"
   ],
   "metadata": {
    "collapsed": false,
    "ExecuteTime": {
     "end_time": "2023-11-14T23:34:57.814808Z",
     "start_time": "2023-11-14T23:34:57.714195Z"
    }
   },
   "id": "819e5989b12f97f2"
  },
  {
   "cell_type": "code",
   "execution_count": 25,
   "outputs": [
    {
     "data": {
      "text/plain": "<Figure size 640x480 with 1 Axes>",
      "image/png": "[encoded data removed]"
     },
     "metadata": {},
     "output_type": "display_data"
    },
    {
     "data": {
      "text/plain": "<Figure size 640x480 with 1 Axes>",
      "image/png": "[encoded data removed]"
     },
     "metadata": {},
     "output_type": "display_data"
    }
   ],
   "source": [
    "actual_vs_thresh_prob = []\n",
    "x = np.linspace(0, 10, 101)\n",
    "for prediction_threshold in x:\n",
    "    # what percentage of predicted_values above prediction_threshold had an actual_value above prediction_threshold\n",
    "    actual_vs_thresh_prob.append(100 * ((actual_values > prediction_threshold * 1.0) & (predicted_values > \n",
    "                                                                              prediction_threshold)).mean())\n",
    "\n",
    "plt.plot(x, actual_vs_thresh_prob)\n",
    "plt.title('Percentage of actual values above threshold if predicted value above threshold')\n",
    "plt.xlabel('Predicted Value Threshold')\n",
    "plt.ylabel('True Values % Above Threshold')\n",
    "plt.show()\n",
    "\n",
    "actual_vs_pred_prob = []\n",
    "# x = np.linspace(0, 10, 51)\n",
    "for prediction_threshold in x:\n",
    "    # what percentage of predicted_values above prediction_threshold had an actual_value above prediction_threshold\n",
    "    actual_vs_pred_prob.append(100 * ((actual_values >= predicted_values) & (predicted_values > \n",
    "                                                                              prediction_threshold)).mean())\n",
    "\n",
    "plt.plot(x, actual_vs_pred_prob)\n",
    "plt.title('Percentage of (actual values >= predicted values) if predicted value above threshold')\n",
    "plt.xlabel('Predicted Value Threshold')\n",
    "plt.ylabel('True Values % Above Predicted Values')\n",
    "plt.show()"
   ],
   "metadata": {
    "collapsed": false,
    "ExecuteTime": {
     "end_time": "2023-11-14T23:34:58.028216Z",
     "start_time": "2023-11-14T23:34:57.815262Z"
    }
   },
   "id": "b32344ebce26dff2"
  },
  {
   "cell_type": "code",
   "execution_count": 26,
   "outputs": [
    {
     "data": {
      "text/plain": "2.2"
     },
     "execution_count": 26,
     "metadata": {},
     "output_type": "execute_result"
    }
   ],
   "source": [
    "x[find_first_below_threshold(actual_vs_thresh_prob, 50)]"
   ],
   "metadata": {
    "collapsed": false,
    "ExecuteTime": {
     "end_time": "2023-11-14T23:34:58.031360Z",
     "start_time": "2023-11-14T23:34:58.026443Z"
    }
   },
   "id": "11e39121b66b0bcd"
  },
  {
   "cell_type": "code",
   "execution_count": 27,
   "outputs": [
    {
     "name": "stdout",
     "output_type": "stream",
     "text": [
      "Mean Squared Logarithmic Error: 0.0003547861480483068\n"
     ]
    },
    {
     "data": {
      "text/plain": "'Mean Squared Logarithmic Error: 0.0003165310587558688'"
     },
     "execution_count": 27,
     "metadata": {},
     "output_type": "execute_result"
    }
   ],
   "source": [
    "\n",
    "# Use MSLE to penalize underestimates...need to modify to penalize overestimates\n",
    "# Ensure that neither actual_values nor predicted_values contain negative values\n",
    "actual_values_adj = np.maximum((1 + actual_values/100), 0)\n",
    "predicted_values_adj = np.maximum((1 + predicted_values/100), 0)\n",
    "# Swap the actual and predicted values to punish overestimates.\n",
    "modified_msle = mean_squared_log_error(predicted_values_adj, actual_values_adj)\n",
    "\n",
    "print(\"Mean Squared Logarithmic Error:\", modified_msle)\n",
    "\"Mean Squared Logarithmic Error: 0.0003165310587558688\""
   ],
   "metadata": {
    "collapsed": false,
    "ExecuteTime": {
     "end_time": "2023-11-14T23:34:58.037528Z",
     "start_time": "2023-11-14T23:34:58.032045Z"
    }
   },
   "id": "544ea76e5d0236b5"
  },
  {
   "cell_type": "code",
   "execution_count": 28,
   "outputs": [
    {
     "data": {
      "text/plain": "<Figure size 640x480 with 1 Axes>",
      "image/png": "[encoded data removed]"
     },
     "metadata": {},
     "output_type": "display_data"
    }
   ],
   "source": [
    "y = []\n",
    "x = np.linspace(0, 10, 51)\n",
    "for prediction_threshold in x:\n",
    "    y.append(np.median(actual_values[predicted_values >= prediction_threshold]))\n",
    "plt.plot(x, y)\n",
    "plt.title('Median of actual values if predicted value above threshold')\n",
    "plt.xlabel('Predicted Value Threshold')\n",
    "plt.ylabel('Median of Actual Values')\n",
    "plt.show()"
   ],
   "metadata": {
    "collapsed": false,
    "ExecuteTime": {
     "end_time": "2023-11-14T23:34:58.132427Z",
     "start_time": "2023-11-14T23:34:58.036237Z"
    }
   },
   "id": "a82a1c2a12e05d5b"
  },
  {
   "cell_type": "code",
   "execution_count": 29,
   "outputs": [
    {
     "data": {
      "text/plain": "4.166507978824695"
     },
     "execution_count": 29,
     "metadata": {},
     "output_type": "execute_result"
    }
   ],
   "source": [
    "slice = actual_values[predicted_values >= 4]\n",
    "np.median(slice)\n",
    "# slice\n",
    "# y"
   ],
   "metadata": {
    "collapsed": false,
    "ExecuteTime": {
     "end_time": "2023-11-14T23:34:58.137673Z",
     "start_time": "2023-11-14T23:34:58.131847Z"
    }
   },
   "id": "ce0d29ef4e821b0e"
  },
  {
   "cell_type": "code",
   "execution_count": 13,
   "outputs": [],
   "source": [],
   "metadata": {
    "collapsed": false,
    "ExecuteTime": {
     "end_time": "2023-11-14T05:29:00.383592Z",
     "start_time": "2023-11-14T05:29:00.381397Z"
    }
   },
   "id": "dd480f163e94eddc"
  }
 ],
 "metadata": {
  "kernelspec": {
   "display_name": "Python 3",
   "language": "python",
   "name": "python3"
  },
  "language_info": {
   "codemirror_mode": {
    "name": "ipython",
    "version": 2
   },
   "file_extension": ".py",
   "mimetype": "text/x-python",
   "name": "python",
   "nbconvert_exporter": "python",
   "pygments_lexer": "ipython2",
   "version": "2.7.6"
  }
 },
 "nbformat": 4,
 "nbformat_minor": 5
}
